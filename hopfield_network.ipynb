{
  "cells": [
    {
      "cell_type": "code",
      "execution_count": 273,
      "metadata": {
        "id": "yiy32uVz6pkz"
      },
      "outputs": [],
      "source": [
        "import numpy as np\n",
        "import numpy.random as random\n",
        "import matplotlib.pyplot as plt\n",
        "import pickle, gzip, urllib.request, json\n",
        "from google.colab import drive"
      ]
    },
    {
      "cell_type": "code",
      "execution_count": 395,
      "metadata": {
        "colab": {
          "base_uri": "https://localhost:8080/"
        },
        "id": "SPmXhdLY6pk1",
        "outputId": "05f2d3e2-22fe-4346-f8c4-415d4620cfc7"
      },
      "outputs": [
        {
          "output_type": "stream",
          "name": "stdout",
          "text": [
            "Drive already mounted at /content/drive; to attempt to forcibly remount, call drive.mount(\"/content/drive\", force_remount=True).\n"
          ]
        }
      ],
      "source": [
        "# To ensure reproducibility\n",
        "random.seed(11)\n",
        "np.random.seed(11)\n",
        "\n",
        "# To connect to google drive\n",
        "drive.mount('/content/drive')"
      ]
    },
    {
      "cell_type": "code",
      "execution_count": 396,
      "metadata": {
        "colab": {
          "base_uri": "https://localhost:8080/"
        },
        "id": "l-4m3k7Y6pk2",
        "outputId": "eb681865-c859-498c-d30a-c7e188677e7f"
      },
      "outputs": [
        {
          "output_type": "stream",
          "name": "stdout",
          "text": [
            "(50000,)\n",
            "(50000, 784)\n",
            "(10, 784)\n"
          ]
        }
      ],
      "source": [
        "# Load the dataset\n",
        "path = '/content/drive/MyDrive/Colab Notebooks/ECSE549 - A2/mnist.pkl.gz'\n",
        "with gzip.open(path, 'rb') as f:\n",
        "    train_set, valid_set, test_set = pickle.load(f, encoding='latin1')\n",
        "\n",
        "# Get the data into arrays\n",
        "images = train_set[0]\n",
        "labels = train_set[1]\n",
        "print(labels.shape)\n",
        "print(images.shape)\n",
        "\n",
        "# Put aside an array for the patterns\n",
        "patterns = np.zeros((10,784))\n",
        "\n",
        "# Set aside one image per class to store (10 images in total)\n",
        "for category in range(10):\n",
        "  inclass = [i for i in range(labels.shape[0]) if labels[i] == category]\n",
        "  patterns[category,:] = 1.0*(images[inclass[random.randint(0,len(inclass))],:] > 0)\n",
        "\n",
        "\n",
        "print(patterns.shape)"
      ]
    },
    {
      "cell_type": "code",
      "execution_count": 397,
      "metadata": {
        "colab": {
          "base_uri": "https://localhost:8080/",
          "height": 97
        },
        "id": "92SqJVzd6pk2",
        "outputId": "3608f0e3-f8c2-43cc-bead-e38bb1e35514"
      },
      "outputs": [
        {
          "output_type": "display_data",
          "data": {
            "text/plain": [
              "<Figure size 640x480 with 10 Axes>"
            ],
            "image/png": "[encoded data removed]"
          },
          "metadata": {}
        },
        {
          "output_type": "stream",
          "name": "stdout",
          "text": [
            "1.0 0.0\n"
          ]
        }
      ],
      "source": [
        "#Plot the patterns we're going to store\n",
        "fig, axs = plt.subplots(1,10)\n",
        "for c in range(10):\n",
        "    axs[c].imshow(patterns[c,:].reshape((28,28)), cmap='gray')\n",
        "    axs[c].axis(\"off\")\n",
        "plt.show()\n",
        "\n",
        "# check the max and min pixel value\n",
        "print(patterns[0,:].max(), patterns[0,:].min())\n"
      ]
    },
    {
      "cell_type": "code",
      "execution_count": 630,
      "metadata": {
        "id": "JAdB0F5o6pk3"
      },
      "outputs": [],
      "source": [
        "from ast import JoinedStr\n",
        "import numpy as np\n",
        "\n",
        "class HopfieldNetwork:\n",
        "    def __init__(self, N, epochs):\n",
        "        \"\"\"\n",
        "        Method to initiate the basic hopfield network\n",
        "\n",
        "        Notes:\n",
        "         - N is the number of units\n",
        "         - State represents the current network\n",
        "         - Weight is the NxN weight matrix\n",
        "         - Threshold is the Nx1 threshold vector\n",
        "         - epochs is the number of epochs to run the network for (rather than running update multiple times)\n",
        "        \"\"\"\n",
        "        self.N = N\n",
        "        self.epochs = epochs\n",
        "        self.patternStored = []\n",
        "        self.weight = np.zeros((N, N), dtype=float)\n",
        "        self.state = np.zeros(N, dtype=float)\n",
        "        self.threshold = np.zeros(N, dtype=float)\n",
        "\n",
        "    def set_state(self, activity):\n",
        "        \"\"\"\n",
        "        set_state(activity)\n",
        "\n",
        "        Sets the state of the network to the pattern given by activity.\n",
        "\n",
        "        You do not need to change this function.\n",
        "        \"\"\"\n",
        "        self.state = np.array(activity)\n",
        "\n",
        "    # NOTE I CHANGED THE CODE HERE SO THAT EPOCHS ARE A FUNCTION OF NETWORK\n",
        "    def update(self):\n",
        "        \"\"\"\n",
        "        This function computes the activations at each time step.\n",
        "        We spike when our net function outputs something greater than 0,\n",
        "        and vice versa when not to spike.\n",
        "        Implements a synchronous update function.\n",
        "        \"\"\"\n",
        "        states_over_time = [self.state.copy()]\n",
        "\n",
        "        for i in range(self.epochs):\n",
        "            # We are gonna go through each neuron and update it's weight so initialize to 0\n",
        "            state_copy = np.zeros(self.N)\n",
        "            for j in range(self.N):\n",
        "                # Dot product of weights for neuron j with the copied state minus threshold\n",
        "                net_input = np.dot(self.weight[j], self.state) - self.threshold[j]\n",
        "                # bipolar representation, np.sign caused boolean values\n",
        "                if net_input > 0:\n",
        "                    state_copy[j] = 1\n",
        "                else:\n",
        "                    state_copy[j] = -1\n",
        "\n",
        "            self.set_state(state_copy.copy())\n",
        "            states_over_time.append(state_copy.copy())\n",
        "        return states_over_time\n",
        "\n",
        "\n",
        "    def store_one(self, image, c=1):\n",
        "        \"\"\"\n",
        "        Stores one pattern in the hopfield network\n",
        "        Hebbs learning is used to update the weights with C being a constant set to 1\n",
        "        \"\"\"\n",
        "        # Using the equation learned in slides we multiply the image by its transpose\n",
        "        # Scaling factor to normalize\n",
        "        if self.patternStored is not None:\n",
        "          # self.weight = (len(self.patternStored)) * self.weight\n",
        "          self.weight += c * np.outer(image, image)  # Shape (784, 784)\n",
        "          self.patternStored.append(image)\n",
        "          # Normalize the weight\n",
        "          self.weight /= len(self.patternStored)\n",
        "        else:\n",
        "          temp_weight = c * np.outer(image, image)  # Shape (784, 784)\n",
        "          self.patternStored = [image]\n",
        "\n",
        "\n",
        "        np.fill_diagonal(self.weight, 0)\n",
        "\n",
        "        return self.weight\n",
        "\n",
        "    def store_multi(self, images, eta=0.0001):\n",
        "        \"\"\"\n",
        "        Using a similar line of thinking now we are dealing with an array of images,\n",
        "        so we will use hebbian learning and implement it find the outer product of each\n",
        "        image. We can call store_one or impelement it here\n",
        "        \"\"\"\n",
        "\n",
        "        # reintialize weights\n",
        "        self.weight = np.zeros((self.N, self.N))\n",
        "        self.patternStored = []\n",
        "        self.threshold = np.zeros(self.N)\n",
        "\n",
        "        # center image\n",
        "        norm = np.sum([np.sum(image) for image in images]) / (self.N * images.shape[0])\n",
        "        # norm = 0\n",
        "        for img in images:\n",
        "            self.patternStored.append(img)\n",
        "            reshape_image = img - norm\n",
        "            # Find outer product of each image and sum it to the weight\n",
        "            self.weight += eta * np.outer(img, img)\n",
        "            # Find thresholds values\n",
        "            self.threshold -= 0.001 * np.dot(self.weight, img)\n",
        "            print(\"weight\",self.weight.shape)\n",
        "            print(self.threshold.shape)\n",
        "\n",
        "        # Normalize the weights\n",
        "        self.weight /= images.shape[0]\n",
        "        np.fill_diagonal(self.weight, 0)\n",
        "\n",
        "        return self.weight"
      ]
    },
    {
      "cell_type": "code",
      "execution_count": 616,
      "metadata": {
        "id": "pTv7YJAR6pk3"
      },
      "outputs": [],
      "source": [
        "# Some helper functions for generating test images\n",
        "\n",
        "# The function for generating a noisy version of an image\n",
        "def image_noise(image,noise_level=0.1):\n",
        "    \"\"\"\n",
        "    new_image = test_noise(image)\n",
        "\n",
        "    This function takes an image, adds noise to it, and returns it.\n",
        "\n",
        "    noise_level - between 0-1, try experimenting with this\n",
        "\n",
        "    \"\"\"\n",
        "\n",
        "    # create a mask for adding noise to the image\n",
        "    # had to change random.uniform to np.random.uniform\n",
        "    image_mask = np.random.uniform(size=image.shape) < noise_level\n",
        "\n",
        "    return np.logical_xor(image,image_mask)\n",
        "\n",
        "# The function for generating a combo of two images\n",
        "def image_combo(image1,image2,image1_weight=0.5):\n",
        "    \"\"\"\n",
        "    newimage = test_combo(image1,image2)\n",
        "\n",
        "    This function takes a pair of images, combines them, and returns the result.\n",
        "\n",
        "    image1_weight - between 0-1, try experimenting with this\n",
        "\n",
        "    \"\"\"\n",
        "\n",
        "    # create a mask for mixing the images\n",
        "    image1_mask = np.random.uniform(size=image1.shape) < image1_weight\n",
        "\n",
        "    return image1_mask*image1 + (1-image1_mask)*image2\n",
        "\n",
        "# Since we are using pattern as 1,-1 we should convert images to that scale 0,1\n",
        "def convert_image(image):\n",
        "    # If it's a 1, then 2*1 - 1 = 1, if 2*0 - 1 = -1 from leetcode lol\n",
        "    return 2 * np.array(image,int) -1\n",
        "\n",
        "# Since we are using pattern as 1,-1 we should convert back to a 0-1 scale\n",
        "def convert_patterns(patterns):\n",
        "    patterns[patterns == -1] = 0\n",
        "    return patterns"
      ]
    },
    {
      "cell_type": "code",
      "execution_count": 640,
      "metadata": {
        "id": "ox_u66276pk4",
        "colab": {
          "base_uri": "https://localhost:8080/",
          "height": 493
        },
        "outputId": "a1a8c623-939d-42ce-aa6f-50a16100c8ad"
      },
      "outputs": [
        {
          "output_type": "stream",
          "name": "stdout",
          "text": [
            "weight (784, 784)\n",
            "(784,)\n",
            "weight (784, 784)\n",
            "(784,)\n"
          ]
        },
        {
          "output_type": "display_data",
          "data": {
            "text/plain": [
              "<Figure size 640x480 with 10 Axes>"
            ],
            "image/png": "[encoded data removed]"
          },
          "metadata": {}
        }
      ],
      "source": [
        "# Create a Hopfield network and train it\n",
        "\n",
        "numsteps = 5 # feel free to change this\n",
        "\n",
        "\n",
        "one_pattern = False # flag for whether to store one pattern at a time\n",
        "\n",
        "# Random indices to pick two random images\n",
        "image_indices = np.random.choice(len(patterns),size=2,replace=False)\n",
        "\n",
        "# number of time-steps to run the network for is the last parameter\n",
        "hnet = HopfieldNetwork(784, numsteps) # construct the network\n",
        "\n",
        "# Convert the images to a bipolar pattern\n",
        "patterns_picked = patterns[image_indices]\n",
        "patterns_converted = np.vectorize(convert_image)(patterns_picked)\n",
        "\n",
        "\n",
        "if one_pattern:\n",
        "    # Train the network to store all the patterns using your store_one function\n",
        "    # Show working for two patterns as per instructions\n",
        "    for image in patterns_converted:\n",
        "      hnet.store_one(image)\n",
        "else:\n",
        "    # grab two random images because otherwise it wont work\n",
        "    hnet.store_multi(patterns_converted)\n",
        "\n",
        "\n",
        "# create an array for storing activity states over time\n",
        "# test using a noisy version of a random image\n",
        "rand_image = patterns[image_indices[0],:]\n",
        "\n",
        "# Convert the noisy image into a bipolar pattern\n",
        "noisy_image = convert_image(image_noise(rand_image, noise_level=0.2))\n",
        "\n",
        "# Set state\n",
        "hnet.set_state(noisy_image)\n",
        "\n",
        "# Find the activities\n",
        "activities = hnet.update()\n",
        "\n",
        "\n",
        "# plot the results\n",
        "fig, axs = plt.subplots(2,numsteps)\n",
        "axs[0,0].imshow(noisy_image.reshape((28,28)), cmap='gray')\n",
        "axs[0,0].set_title('Input')\n",
        "for i,img in enumerate(patterns_converted):\n",
        "  axs[0,i+1].imshow(img.reshape((28,28)), cmap='gray')\n",
        "  axs[0,i+1].set_title(f'Memory {i+1}')\n",
        "\n",
        "for c in range(numsteps):\n",
        "    axs[1,c].imshow(activities[c].reshape((28,28)), cmap='gray')\n",
        "    axs[0,c].axis(\"off\")\n",
        "    axs[1,c].axis(\"off\")\n",
        "\n",
        "fig.tight_layout()\n",
        "plt.show()\n"
      ]
    },
    {
      "cell_type": "code",
      "execution_count": 641,
      "metadata": {
        "id": "9jA4JgzA6pk4",
        "outputId": "914044b1-9c46-4b69-ecd9-ec64ceacac13",
        "colab": {
          "base_uri": "https://localhost:8080/",
          "height": 422
        }
      },
      "outputs": [
        {
          "output_type": "display_data",
          "data": {
            "text/plain": [
              "<Figure size 640x480 with 10 Axes>"
            ],
            "image/png": "[encoded data removed]"
          },
          "metadata": {}
        }
      ],
      "source": [
        "# test using a noisy version of a random image\n",
        "rand_image1 = patterns_picked[0]\n",
        "\n",
        "rand_image2 = patterns_picked[1]\n",
        "\n",
        "activity = convert_image(image_combo(rand_image1,rand_image2))\n",
        "\n",
        "hnet.set_state(activity)\n",
        "activities = hnet.update()\n",
        "\n",
        "\n",
        "# plot the results\n",
        "fig, axs = plt.subplots(2,numsteps)\n",
        "axs[0,0].imshow(activity.reshape((28,28)), cmap='gray')\n",
        "axs[0,0].set_title('Input')\n",
        "for i,img in enumerate(patterns_converted):\n",
        "  axs[0,i+1].imshow(img.reshape((28,28)), cmap='gray')\n",
        "  axs[0,i+1].set_title(f'Memory {i+1}')\n",
        "\n",
        "\n",
        "for c in range(numsteps):\n",
        "    axs[1,c].imshow(activities[c].reshape((28,28)), cmap='gray')\n",
        "    axs[0,c].axis(\"off\")\n",
        "    axs[1,c].axis(\"off\")\n",
        "\n",
        "fig.tight_layout()\n",
        "plt.show()\n",
        "\n"
      ]
    },
    {
      "cell_type": "code",
      "execution_count": null,
      "metadata": {
        "id": "g02KHStn6pk4"
      },
      "outputs": [],
      "source": []
    }
  ],
  "metadata": {
    "kernelspec": {
      "display_name": "Python 3",
      "language": "python",
      "name": "python3"
    },
    "language_info": {
      "codemirror_mode": {
        "name": "ipython",
        "version": 3
      },
      "file_extension": ".py",
      "mimetype": "text/x-python",
      "name": "python",
      "nbconvert_exporter": "python",
      "pygments_lexer": "ipython3",
      "version": "3.7.3"
    },
    "colab": {
      "provenance": []
    }
  },
  "nbformat": 4,
  "nbformat_minor": 0
}